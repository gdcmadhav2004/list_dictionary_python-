{
  "nbformat": 4,
  "nbformat_minor": 0,
  "metadata": {
    "colab": {
      "provenance": []
    },
    "kernelspec": {
      "name": "python3",
      "display_name": "Python 3"
    },
    "language_info": {
      "name": "python"
    }
  },
  "cells": [
    {
      "cell_type": "code",
      "source": [
        "In Python, a list is a versatile and dynamic data structure that can store any type of data\n",
        "\n",
        "Key Features:\n",
        "Lists are mutable, meaning their elements can be modified.\n",
        "They are ordered, so the sequence of elements is maintained.\n",
        "They support indexing and slicing\n",
        "\n",
        "opereration are : concatination and multiplication\n",
        "+ and *\n",
        "sliced_list = my_list[start:stop:step]\n",
        "\n"
      ],
      "metadata": {
        "id": "cEVFEkdj5pHx"
      },
      "execution_count": null,
      "outputs": []
    },
    {
      "cell_type": "code",
      "source": [
        "list1= [1,\"heelo\",[1,2,3] ,True]\n",
        "print(list1)\n",
        "list2=[1,2,3]\n",
        "list3=[4,5,6]\n",
        "list4=list2+list3\n",
        "print(list4)\n",
        "list5=list2*3\n",
        "print(list5)\n",
        "print(list2[1:])\n",
        "my_list = [0, 1, 2, 3, 4, 5, 6, 7, 8, 9]\n",
        "print(my_list[2:5])  # Output: [2, 3, 4]\n",
        "print(list2[-1:-3])\n",
        "list6=list2 # cloning of list\n",
        "print(list6)"
      ],
      "metadata": {
        "colab": {
          "base_uri": "https://localhost:8080/"
        },
        "id": "HqfjmiZ45qXL",
        "outputId": "d735c5cf-dcc1-41ab-b1c5-252bee374ba7"
      },
      "execution_count": null,
      "outputs": [
        {
          "output_type": "stream",
          "name": "stdout",
          "text": [
            "[1, 'heelo', [1, 2, 3], True]\n",
            "[1, 2, 3, 4, 5, 6]\n",
            "[1, 2, 3, 1, 2, 3, 1, 2, 3]\n",
            "[2, 3]\n",
            "[2, 3, 4]\n",
            "[]\n",
            "[1, 2, 3]\n"
          ]
        }
      ]
    },
    {
      "cell_type": "code",
      "source": [
        "# Features list: [age, hours of studying, marks]\n",
        "student_features = [18, 6, 85]\n",
        "\n",
        "# Slicing to get hours of studying and marks\n",
        "study_and_marks = student_features[1:3]  # Slice from index 1 to 2 (stop is exclusive)\n",
        "\n",
        "print(\"Original Features:\", student_features)\n",
        "print(\"Study Hours and Marks:\", study_and_marks)\n"
      ],
      "metadata": {
        "colab": {
          "base_uri": "https://localhost:8080/"
        },
        "id": "6sx-QOwt98Pm",
        "outputId": "2aa9ddb8-ceef-4415-8194-b42acecbe7da"
      },
      "execution_count": null,
      "outputs": [
        {
          "output_type": "stream",
          "name": "stdout",
          "text": [
            "Original Features: [18, 6, 85]\n",
            "Study Hours and Marks: [6, 85]\n"
          ]
        }
      ]
    },
    {
      "cell_type": "code",
      "source": [
        "# Dictionary representing a student's data\n",
        "student_data = {\n",
        "    \"no_of_hr_studies\": 5,  # Number of hours spent studying\n",
        "    \"sleep_hrs\": 7,         # Number of hours of sleep\n",
        "    \"screen_time\": 3        # Number of hours spent on screen\n",
        "}\n",
        "\n",
        "print(\"Student Data:\", student_data)\n"
      ],
      "metadata": {
        "id": "uohjUuUV-bnF",
        "colab": {
          "base_uri": "https://localhost:8080/"
        },
        "outputId": "48cd4927-36fc-4018-c5fa-8c0d0cc5c6d4"
      },
      "execution_count": 1,
      "outputs": [
        {
          "output_type": "stream",
          "name": "stdout",
          "text": [
            "Student Data: {'no_of_hr_studies': 5, 'sleep_hrs': 7, 'screen_time': 3}\n"
          ]
        }
      ]
    }
  ]
}